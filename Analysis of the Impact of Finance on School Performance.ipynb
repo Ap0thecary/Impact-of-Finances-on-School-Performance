{
 "cells": [
  {
   "cell_type": "code",
   "execution_count": 4,
   "metadata": {},
   "outputs": [],
   "source": [
    "import os\n",
    "import pandas as pd\n",
    "import numpy as np\n",
    "import pathlib as pl\n",
    "import seaborn as sb"
   ]
  },
  {
   "cell_type": "code",
   "execution_count": 6,
   "metadata": {},
   "outputs": [
    {
     "name": "stdout",
     "output_type": "stream",
     "text": [
      "C:\\Users\\Lhiowynh\\Desktop\\Data\\Financial Impact on School Performance\\Impact-of-Finances-on-School-Performance\\Data\n"
     ]
    }
   ],
   "source": [
    "#Musn't forget the main path\n",
    "directory = pl.Path(os.getcwd(),'Data')\n",
    "print(directory)\n",
    "\n",
    "#Summary data\n",
    "summ17 = 'acctsumm17.xlsx'\n",
    "summ16 = 'acctsumm16.xlsx'\n",
    "summ15 = 'acctsumm15.xlsx'\n",
    "summ14 = 'acctsumm14.xlsx'\n",
    "summ13 = 'acctsumm13.xlsx'\n",
    "#Detailed data\n",
    "dd17 = 'accdrilldwn17.xlsx'\n",
    "dd16 = 'accdrilldwn16.xlsx'\n",
    "dd15 = 'accdrilldwn15.xlsx'\n",
    "dd14 = 'accdrilldwn14.xlsx'\n",
    "dd13 = 'accdrilldwn13.xlsl'"
   ]
  },
  {
   "cell_type": "code",
   "execution_count": null,
   "metadata": {},
   "outputs": [],
   "source": []
  },
  {
   "cell_type": "code",
   "execution_count": null,
   "metadata": {},
   "outputs": [],
   "source": []
  }
 ],
 "metadata": {
  "kernelspec": {
   "display_name": "Python 3",
   "language": "python",
   "name": "python3"
  }
 },
 "nbformat": 4,
 "nbformat_minor": 2
}
