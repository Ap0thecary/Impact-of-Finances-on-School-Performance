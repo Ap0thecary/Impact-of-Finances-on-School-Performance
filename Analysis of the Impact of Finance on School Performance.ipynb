{
 "cells": [
  {
   "cell_type": "code",
   "execution_count": 1,
   "metadata": {},
   "outputs": [],
   "source": [
    "import os\n",
    "import pandas as pd\n",
    "import numpy as np\n",
    "import pathlib as pl\n",
    "import seaborn as sb"
   ]
  },
  {
   "cell_type": "code",
   "execution_count": 3,
   "metadata": {},
   "outputs": [
    {
     "name": "stdout",
     "output_type": "stream",
     "text": [
      "C:\\Users\\Lhiowynh\\Desktop\\Data\\Financial Impact on School Performance\\acctsumm17.xlsx\n"
     ]
    }
   ],
   "source": [
    "#Musn't forget the main path\n",
    "dataPath = pl.PurePath('C:/Users/Lhiowynh/Desktop/Data/Financial Impact on School Performance/')\n",
    "#Summary data\n",
    "summ17 = 'acctsumm17.xlsx'\n",
    "summ16 = 'acctsumm16.xlsx'\n",
    "summ15 = 'acctsumm15.xlsl'\n",
    "#Detailed data\n",
    "dd17 = 'accdrilldwn17.xlsx'\n",
    "dd16 = 'accdrilldwn16.xlsx'\n",
    "dd15 = 'accdrilldwn15.xlsx'"
   ]
  },
  {
   "cell_type": "code",
   "execution_count": null,
   "metadata": {},
   "outputs": [],
   "source": []
  }
 ],
 "metadata": {
  "kernelspec": {
   "display_name": "Python 3",
   "language": "python",
   "name": "python3"
  },
  "language_info": {
   "codemirror_mode": {
    "name": "ipython",
    "version": 3
   },
   "file_extension": ".py",
   "mimetype": "text/x-python",
   "name": "python",
   "nbconvert_exporter": "python",
   "pygments_lexer": "ipython3",
   "version": "3.7.0"
  }
 },
 "nbformat": 4,
 "nbformat_minor": 2
}
